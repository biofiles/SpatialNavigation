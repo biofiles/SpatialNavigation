{
 "cells": [
  {
   "cell_type": "markdown",
   "metadata": {},
   "source": [
    "# Cueva & Wei reproduction\n",
    "\n",
    "In this notebook we will try to reproduce de results of Cueva and Wei's 2018 paper \"Emergence of grid-like representations by training recurrent neural networks to perform spatial localization\" arXiv:1803.07770\n",
    "\n",
    "This will be done with a simple RNN implemented with Tensorflow 2.0.\n",
    "\n",
    "This effort comprises the initial steps to a theoretical neuroscience project envolving neuronal behaviour regarding spatial localization.\n",
    "\n",
    "For questions or suggestions please contact kkohn@itba.edu.ar"
   ]
  },
  {
   "cell_type": "markdown",
   "metadata": {},
   "source": [
    "## Setup\n"
   ]
  },
  {
   "cell_type": "code",
   "execution_count": null,
   "metadata": {},
   "outputs": [],
   "source": [
    "import numpy as np\n",
    "import tensorflow as tf\n",
    "from tensorflow import keras\n",
    "from tensorflow.keras import layers"
   ]
  },
  {
   "cell_type": "markdown",
   "metadata": {},
   "source": [
    "### Model Description\n",
    "Our network model consists of a set of recurrently connected units (N = 100). The dynamics of\n",
    "each unit in the network ui(t) is governed by the standard continuous-time RNN equation:\n",
    "\n",
    " $$ τ\\frac{dxi(t)}{dt} = −x_i(t) + \\sum_{j=1}^N [W^{rec}_{ij} u_j(t)]\n",
    " + \\sum_{k=1}^Nin [W^{in}_{ik} I_k(t) + b_i + ξ_i(t)] \\tag{1}$$ for i = 1, . . . , N. \n",
    "\n",
    "The activity of each unit, ui(t), is related to the activation of that unit, xi(t),\n",
    "through a nonlinearity which in this study we take to be ui(t) = tanh(xi(t)). Each unit receives\n",
    "input from other units through the recurrent weight matrix Wrec and also receives external input,\n",
    "I(t), that enters the network through the weight matrix Win. Each unit has two sources of bias,\n",
    "bi which is learned and ξi(t) which represents noise intrinsic to the network and is taken to be\n",
    "Gaussian with zero mean and constant variance. The network was simulated using the Euler method\n",
    "for T = 500 timesteps of duration τ /10."
   ]
  },
  {
   "cell_type": "code",
   "execution_count": null,
   "metadata": {},
   "outputs": [],
   "source": []
  }
 ],
 "metadata": {
  "kernelspec": {
   "display_name": "Python 3",
   "language": "python",
   "name": "python3"
  },
  "language_info": {
   "codemirror_mode": {
    "name": "ipython",
    "version": 3
   },
   "file_extension": ".py",
   "mimetype": "text/x-python",
   "name": "python",
   "nbconvert_exporter": "python",
   "pygments_lexer": "ipython3",
   "version": "3.7.3"
  }
 },
 "nbformat": 4,
 "nbformat_minor": 2
}
