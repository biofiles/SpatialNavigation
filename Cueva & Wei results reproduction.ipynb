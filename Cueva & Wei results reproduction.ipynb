{
 "cells": [
  {
   "cell_type": "markdown",
   "metadata": {},
   "source": [
    "# Cueva & Wei reproduction\n",
    "\n",
    "In this notebook we will try to reproduce the results of Cueva and Wei's 2018 paper \"Emergence of grid-like representations by training recurrent neural networks to perform spatial localization\" [arXiv:1803.07770](https://arxiv.org/abs/1803.07770). The paper will be cited along this notebook to guide the code, since this is a reconstruction.\n",
    "\n",
    "This will be done with a continuous-time RNN as described in the paper.\n",
    "\n",
    "This effort comprises the initial steps of a theoretical neuroscience project involving neural behaviour regarding spatial localization.\n",
    "\n",
    "For questions or suggestions please contact kkohn@itba.edu.ar"
   ]
  },
  {
   "cell_type": "markdown",
   "metadata": {},
   "source": [
    "## Packages\n",
    "\n",
    "We use numpy and the CTRNN package https://github.com/madvn/CTRNN \n"
   ]
  },
  {
   "cell_type": "code",
   "execution_count": 1,
   "metadata": {},
   "outputs": [],
   "source": [
    "import numpy as np\n",
    "import matplotlib.pyplot as plt\n",
    "from CTRNN import CTRNN   #Continuous time Recurrent Neural Network package (pip install CTRNN)"
   ]
  },
  {
   "cell_type": "markdown",
   "metadata": {},
   "source": [
    "### Model Description\n",
    "Our network model consists of a set of recurrently connected units (N = 100). The dynamics of\n",
    "each unit in the network $u_i(t)$ is governed by the standard continuous-time RNN equation:\n",
    "\n",
    " $$ τ\\frac{dx_i(t)}{dt} = −x_i(t) + \\sum_{j=1}^N W^{rec}_{ij} u_j(t)\n",
    " + \\sum_{k=1}^N W^{in}_{ik} I_k(t) + b_i + ξ_i(t) \\tag{1}$$ for i = 1, . . . , N. \n",
    "\n",
    "The activity of each unit, $u_i(t)$, is related to the activation of that unit, $x_i(t)$,\n",
    "through a nonlinearity which in this study we take to be $u_i(t) = tanh(x_i(t))$. Each unit receives\n",
    "input from other units through the recurrent weight matrix $W^{rec}$ and also receives external input,\n",
    "$I(t)$, that enters the network through the weight matrix $W^{in}$. Each unit has two sources of bias,\n",
    "$b_i$ which is learned and $ξ_i(t)$ which represents noise intrinsic to the network and is taken to be\n",
    "Gaussian with zero mean and constant variance. The network was simulated using the Euler method\n",
    "for T = 500 timesteps of duration Δt = τ /10.\n",
    "\n",
    "$$ y_i(t+Δt)=y_i(t)+Δt \\frac{dy_i}{dt} $$\n",
    "\n",
    "To perform a 2D navigation task with the RNN, we linearly combine the firing rates of units in\n",
    "the network to estimate the current location of the animal. The responses of the two linear readout\n",
    "neurons, $y_1(t)$ and $y_2(t)$, are given by the following equation:\n",
    "$$y_j (t) = \\sum^N_{i=1} W_{ji}^{out} u_i(t) \\tag{2}$$"
   ]
  },
  {
   "cell_type": "code",
   "execution_count": 2,
   "metadata": {},
   "outputs": [
    {
     "name": "stdout",
     "output_type": "stream",
     "text": [
      "[1. 1. 1. 1. 1. 1. 1. 1. 1. 1. 1. 1. 1. 1. 1. 1. 1. 1. 1. 1. 1. 1. 1. 1.\n",
      " 1. 1. 1. 1. 1. 1. 1. 1. 1. 1. 1. 1. 1. 1. 1. 1. 1. 1. 1. 1. 1. 1. 1. 1.\n",
      " 1. 1. 1. 1. 1. 1. 1. 1. 1. 1. 1. 1. 1. 1. 1. 1. 1. 1. 1. 1. 1. 1. 1. 1.\n",
      " 1. 1. 1. 1. 1. 1. 1. 1. 1. 1. 1. 1. 1. 1. 1. 1. 1. 1. 1. 1. 1. 1. 1. 1.\n",
      " 1. 1. 1. 1.]\n"
     ]
    }
   ],
   "source": [
    "# parameters\n",
    "N = 100 # no. of units\n",
    "T = 500 # no. of Euler timesteps\n",
    "step_size = T/10 # Euler timestep size\n",
    "\n",
    "#network set up\n",
    "network = CTRNN(size=N, step_size=step_size)\n",
    "\n",
    "print(network.biases)"
   ]
  },
  {
   "cell_type": "code",
   "execution_count": null,
   "metadata": {},
   "outputs": [],
   "source": []
  },
  {
   "cell_type": "markdown",
   "metadata": {},
   "source": [
    "### Input to the network\n",
    "The network inputs and outputs were inspired by simple spatial navigation tasks in 2D open environments. The task resembles dead-reckoning (sometimes referred to as path integration), which is\n",
    "ethologically relevant for many animal species (Darwin, 1873; Mittelstaedt & Mittelstaedt, 1980;\n",
    "Etienne & Jeffery, 2004; McNaughton et al., 2006). To be more specific, the inputs to the network\n",
    "were the animal’s speed and direction at each time step. Experimentally, it has been shown that the\n",
    "velocity signals exist in EC (Sargolini et al., 2006; Kropff et al., 2015; Hinman et al., 2016), and\n",
    "there is also evidence that such signals are necessary for grid formation (Winter et al., 2015a;b).\n",
    "\n",
    "Throughout the paper, we adopt the common assumption that the head direction of the animal coincides\n",
    "with the actual moving direction. The outputs were the x- and y-coordinates of the integrated\n",
    "position. The direction of the animal is modeled by modified Brownian motion to increase the\n",
    "probability of straight-runs, in order to be consistent with the typical rodent’s behavior in an open\n",
    "environment. The usage of such simple movement statistics has the advantage of having full control\n",
    "of the simulated trajectories. However, for future work it would be very interesting to test the model\n",
    "using different animals’ real movement trajectories to see how the results might change.\n",
    "\n",
    "Special care is taken when the animal is close to the boundary. The boundary of the environment\n",
    "will affect the statistics of the movement, as the animal cannot cross the boundary. This fact was\n",
    "reflected in the model by re-sampling the angular input variable until the input angle did not lead\n",
    "the animal outside the boundary. In the simulations shown below, the animal always starts from the\n",
    "center of the arena, but we verified that the results are insensitive to the starting locations."
   ]
  },
  {
   "cell_type": "code",
   "execution_count": 8,
   "metadata": {
    "scrolled": false
   },
   "outputs": [
    {
     "name": "stdout",
     "output_type": "stream",
     "text": [
      "vx= [ 0.          0.75148015 -0.37196132 -1.09381428  0.35385723  0.71338509\n",
      "  0.24265907  0.39353155  0.07825033 -1.49871017 -0.01774201  1.29239813\n",
      "  0.59553437 -1.38288598  0.08213349  0.26136154  1.07624115  1.27445997\n",
      "  0.55090468 -0.97323069  1.1510437   2.14488924 -1.12493992 -0.42364849\n",
      " -0.58737212  0.5597939  -1.0390163  -0.24063088  1.17988064 -0.94022627\n",
      " -0.70553599  0.56574801  0.87589059 -1.43107494 -0.80402773 -1.27818732\n",
      " -0.94534822  0.86122567  1.79462841  1.11248347  1.22671371 -0.37437073\n",
      " -0.00581476  0.32749948 -2.51392377  1.19127609 -1.9801618   0.08029349\n",
      "  0.15644344  0.24718354 -1.52632129  0.08896818  0.90557005  0.67716187\n",
      "  0.190733    2.02141275  1.93150818  1.63376815  0.47016983  0.30919862\n",
      "  0.86858762 -0.4310525   0.43482823 -0.51562211 -1.44031152  1.54992348\n",
      "  0.66280446 -2.07302408  0.78475583  0.01193073 -1.37472758  0.34043119\n",
      "  1.39093819 -2.85636186  1.39630268  0.70368958 -0.77031487  1.63552205\n",
      "  1.03127047  0.04941744 -0.8066251  -0.0699308   1.55535286  1.38669299\n",
      "  0.38275937 -0.50541788 -0.44909044  0.69636962 -0.32861569  0.13383573\n",
      "  1.17629981  0.94782821  0.31142605  0.16164516  1.24346762 -0.83797525\n",
      " -0.32452015 -0.45421954 -1.9504919   0.95208609]\n",
      "vy= [ 0.00000000e+00  1.29538586e-01 -3.50449851e-01  1.14728056e+00\n",
      "  6.52452088e-02  1.93338846e-01  8.39725167e-01 -4.79402744e-01\n",
      " -1.11610355e+00  8.21221414e-02 -3.68890544e-01 -3.50273712e-01\n",
      "  4.57382896e-01  2.02677166e+00  6.22356402e-01 -1.03898495e+00\n",
      "  1.53608482e+00  1.67117837e+00  6.05267585e-01 -2.96222943e-01\n",
      "  5.44486681e-01 -1.02698995e-01 -3.18794287e-01 -8.21440257e-01\n",
      " -1.61448518e+00 -1.08675416e-02  1.00455411e+00  7.00477862e-01\n",
      "  1.20164101e+00  1.10335288e+00 -4.34681528e-01  5.90845741e-01\n",
      "  8.84364145e-01 -6.61266666e-01  3.06061637e-01 -1.32835630e+00\n",
      " -3.22428239e-01 -1.96960197e-01 -2.08835322e-01 -7.50479810e-01\n",
      " -4.42378131e-01  3.12945518e-01 -4.26319057e-01  6.00468812e-01\n",
      " -9.36312005e-01 -5.40560641e-01  6.31840837e-01 -3.73242313e-01\n",
      "  1.96255607e-01  1.20061176e-01  3.14450751e-02  4.31924617e-01\n",
      "  1.47090001e+00  2.76266780e-01  2.29630719e-01 -5.72412430e-02\n",
      "  3.41871805e-01 -1.21086920e+00 -4.53527595e-01 -8.18604145e-01\n",
      "  6.27385561e-01  5.99430614e-01  3.96042511e-02 -4.36425034e-01\n",
      "  1.02272823e-01 -2.04953178e+00 -6.96308949e-01 -1.69075708e-01\n",
      "  3.32236097e-01  1.78682155e+00  6.87502958e-01  1.51427662e+00\n",
      "  4.85201199e-01  1.03727498e+00  7.00250191e-02  9.67932735e-01\n",
      " -6.30248441e-01 -1.57622058e+00  1.09262315e+00 -4.53212368e-01\n",
      "  2.04401283e+00 -2.05104502e-01 -5.20467009e-01  3.42765148e-01\n",
      "  5.59126475e-04 -4.24302703e-01 -3.37427529e+00 -1.04024987e-02\n",
      "  1.10277007e+00  8.06223330e-02 -1.63376678e+00 -4.51172913e-01\n",
      " -1.03305307e+00 -1.18194311e+00  8.48769451e-01 -3.85861099e-01\n",
      " -1.77480492e+00  1.39178665e+00 -1.33138627e+00 -2.07506045e-01]\n",
      "dirs= [ 0.          1.40009595  0.81516668 -0.76154547  1.38846134  1.30613767\n",
      "  0.28131112 -0.6873429  -0.06999574 -1.51605586  0.04805856 -1.3061283\n",
      "  0.91586119 -0.59875436  0.13121353 -0.24644137  0.61115479  0.65152378\n",
      "  0.73841304  1.27533452  1.12895054 -1.52295208  1.29464886  0.4761591\n",
      "  0.34892778 -1.5513853  -0.80226028 -0.33089385  0.77626125 -0.70574309\n",
      "  1.0186218   0.76370188  0.78058438  1.13794476 -1.20707224  0.76615322\n",
      "  1.2421006  -1.3459653  -1.45495046 -0.97732246 -1.22469153 -0.87453101\n",
      "  0.0136386   0.49930955  1.21426276 -1.14481497 -1.26192319 -0.21189497\n",
      "  0.67299538  1.11864051 -1.55019737  0.20313965  0.55185261  1.1834318\n",
      "  0.69312745 -1.54248645  1.39561333 -0.93298255 -0.80341319 -0.36114835\n",
      "  0.9452566  -0.62343221  1.47996672  0.86839316 -1.49990788 -0.64747828\n",
      " -0.76075143  1.48941652  1.17031358  0.00667697 -1.10706773  0.22113778\n",
      "  1.23516406 -1.22245892  1.52068799  0.62861956  0.88507395 -0.80386002\n",
      "  0.75651931 -0.10860908 -0.37586695  0.32859166 -1.24787964  1.32847192\n",
      "  1.56933555  0.87242463  0.13231481 -1.55585925 -0.28961277  1.0286157\n",
      " -0.62401811 -1.12652664 -0.29279737 -0.13591899  0.97185574  1.13927108\n",
      "  0.18085052 -0.31545892  0.97185074 -1.35620334]\n"
     ]
    },
    {
     "data": {
      "image/png": "[encoded data removed]",
      "text/plain": [
       "<Figure size 576x576 with 1 Axes>"
      ]
     },
     "metadata": {
      "needs_background": "light"
     },
     "output_type": "display_data"
    }
   ],
   "source": [
    "# 2D Brownian motion simulation\n",
    "\n",
    "x = np.cumsum(np.random.randn(N))  # cummulative sum of N random gaussian jumps \n",
    "y = np.cumsum(np.random.randn(N))\n",
    "\n",
    "# Display path, color gradient indicates time progression\n",
    "k = 10\n",
    "x2 = np.interp(np.arange(N * k), np.arange(N) * k, x)\n",
    "y2 = np.interp(np.arange(N * k), np.arange(N) * k, y)\n",
    "fig, ax = plt.subplots(1, 1, figsize=(8, 8))\n",
    "\n",
    "ax.scatter(x2, y2, c=range(N * k), linewidths=0,\n",
    "           marker='o', s=3, cmap=plt.cm.jet,)\n",
    "ax.axis('equal')\n",
    "ax.set_axis_off()\n",
    "\n",
    "# Calculate velocities and directions for each timestep\n",
    "\n",
    "# Velocities: (x2 - x1)/timestep\n",
    "xaux = np.concatenate([np.array([0]), x[0:-1]]) # [0 x{0} ... x{N-1}]\n",
    "yaux = np.concatenate([np.array([0]), y[0:-1]])\n",
    "vx = (x - xaux)#/step_size \n",
    "vy = (y - yaux)#/step_size \n",
    "vx[0] = 0   #set initial velocities to 0\n",
    "vy[0] = 0\n",
    "\n",
    "# Directions: tan θ = (y2 − y1)/(x2 − x1)\n",
    "dirs = np.arctan((x - xaux)/(y - yaux))\n",
    "dirs[0] = 0\n",
    "\n",
    "#print('x=',x)\n",
    "#print('xaux=',xaux)\n",
    "\n",
    "#print('y=',y)\n",
    "#print('yaux=',yaux)\n",
    "\n",
    "print('vx=',vx)\n",
    "print('vy=',vy)\n",
    "\n",
    "print('dirs=', dirs)"
   ]
  },
  {
   "cell_type": "code",
   "execution_count": null,
   "metadata": {},
   "outputs": [],
   "source": []
  },
  {
   "cell_type": "markdown",
   "metadata": {},
   "source": [
    "### Training\n",
    "We optimized the network parameters $W_{rec}, W_{in}, b$ and $Wout$ to minimize the squared error in equation (3) between target x- and y-coordinates from a two dimensional navigation task (performed in rectangular, hexagonal, and triangular arenas) and the network outputs generated according to equation (2).\n",
    "\n",
    "$$ E = \\frac{1}{MT N_{out}}\\sum^{M,T,N_{out}}_{m,t,j=1}\n",
    "(y_j (t, m) − y^{target}_j(t, m))^2\\tag{3}$$\n",
    "\n",
    "Parameters were updated with the *Hessian-free algorithm* (Martens & Sutskever, 2011) using minibatches of size M = 500 trials. In addition to minimizing the error function in equation (3) we regularized the input and output weights according to equation (4) and the squared firing rates of the units (referred to as metabolic cost) according to equation (5). In sum, the training aims to minimize a loss function, that consists of the error of the animal, the metabolic cost, and a penalty for large network parameters.\n",
    "\n",
    "$$R_{L2} = \\frac{1}{NN_{in}}\\sum^{N,N_{in}}_{i,j=1}\n",
    "(W^{in}_{ij})^2 +\\frac{1}{NN_{out}}\\sum^{N,N_{out}}_{i,j=1}\n",
    "(W^{out}_{ij})^2 \\tag{4}$$\n",
    "\n",
    "$$R_{FR} = \\frac{1}{NTM}\\sum^{N,T,M}_{i,t,m=1}\n",
    "u_i(t, m)^2 \\tag{5}$$"
   ]
  },
  {
   "cell_type": "code",
   "execution_count": null,
   "metadata": {},
   "outputs": [],
   "source": []
  },
  {
   "cell_type": "markdown",
   "metadata": {},
   "source": [
    "### Network simulation"
   ]
  },
  {
   "cell_type": "code",
   "execution_count": null,
   "metadata": {},
   "outputs": [],
   "source": [
    "# simulate network\n",
    "outputs = []\n",
    "for _ in range(int(run_duration/step_size)):\n",
    "    network.euler_step([0]*net_size) # zero external_inputs\n",
    "    outputs.append([network.outputs[i] for i in range(net_size)])\n",
    "outputs = np.asarray(outputs)"
   ]
  }
 ],
 "metadata": {
  "kernelspec": {
   "display_name": "Python 3",
   "language": "python",
   "name": "python3"
  },
  "language_info": {
   "codemirror_mode": {
    "name": "ipython",
    "version": 3
   },
   "file_extension": ".py",
   "mimetype": "text/x-python",
   "name": "python",
   "nbconvert_exporter": "python",
   "pygments_lexer": "ipython3",
   "version": "3.7.3"
  }
 },
 "nbformat": 4,
 "nbformat_minor": 2
}
